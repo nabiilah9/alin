{
 "cells": [
  {
   "cell_type": "markdown",
   "metadata": {},
   "source": [
    "# Sistem Persamaan Linier\n",
    "\n",
    "Secara umum persamaan linier berbentuk:\n",
    "$a_1x_1+a_2x_2+...+a_nx_n=b\\\\$\n",
    "\n",
    "* $a_1, a_2, ..., a_n$ **sebagai koefisien**  \n",
    "* $x_1, x_2, ..., x_n$ **sebagai variabel**  \n",
    "* $b$ **sebagai konstanta**  \n",
    "\n",
    "Sedangkan **Sistem Persamaan Linier** merupakan suatu persamaan linier yang terdiri lebih dari satu persamaan linier, bisa disebut SPL.  \n",
    "Bentuk umum SPL :  \n",
    "\n",
    "$$\n",
    "a_{11}x_1+a_{12}x_2+\\cdots+a_{1n}x_n = b_1\\\\ \n",
    "a_{21}x_1+a_{22}x_2+\\cdots+a_{2n}x_n = b_2\\\\ \n",
    "a_{31}x_1+a_{32}x_2+\\cdots+a_{3n}x_n = b_3\\\\  \n",
    "\\vdots\\qquad\\qquad\\vdots \\qquad\\qquad\\vdots\\qquad=\\vdots\\\\\n",
    "a_{m1}x_1+a_{m2}x_2+\\cdots+a_{mn}x_n = b_m\\\\\n",
    "$$\n",
    "\n",
    "Dalam penyelesaian/solusi dari sistem persamaan linier jika nilai-nilai variabel ($x_1, x_2,...$) yang memenuhi suatu sistem persamaan linier.\n",
    "Jumlah solusi dari suatu sistem persamaan linier :\n",
    "* Tidak ada solusi\n",
    "* Hanya satu solusi (adanya perpotongan)\n",
    "* Tak hingga/banyak solusi\n",
    "\n",
    "## Eliminasi Gauss\n",
    "\n",
    "Eliminasi Gauss merupakan metode yang di gunakan untuk menyelesaikan sistem persamaan linier. penyelesaian tersebut dengan mengubah menjadi bentuk matriks kemudian diubah kebentuk Eselon Baris melalui Operasi Baris Elementer, Kemudian sistem diselesaikan dengan substitusi balik.  \n",
    "\n",
    "**Tiga jenis operasi baris dasar yang dapat dilakukan pada baris matriks tersebut:**\n",
    "\n",
    "1. Menukar posisi kedua persamaan.\n",
    "2. Mengalikan suatu baris dengan skalar bukan nol .\n",
    "3. Menambahkan suatu baris dengan suatu kelipatan dari baris yang lain."
   ]
  },
  {
   "cell_type": "markdown",
   "metadata": {},
   "source": [
    "## Menggambar bidang pada ruang tiga dimensi dari 3 persamaan dibawah ini \n",
    "\n",
    "$$ \n",
    "8x_1+9x_2+x_3=19\\\\ \n",
    "x_1+2x_2+3x_3=9\\\\ \n",
    "2x_1+x_2+x_3=5\\\\\n",
    "$$"
   ]
  },
  {
   "cell_type": "code",
   "execution_count": 1,
   "metadata": {},
   "outputs": [],
   "source": [
    "def RowSwap(A,k,l):\n",
    "# =============================================================================\n",
    "#     A is a NumPy array.  RowSwap will return duplicate array with rows\n",
    "#     k and l swapped.\n",
    "# =============================================================================\n",
    "    m = A.shape[0]  # m is number of rows in A\n",
    "    n = A.shape[1]  # n is number of columns in A\n",
    "\n",
    "    B = np.copy(A).astype('float64')\n",
    "\n",
    "    for j in range(n):\n",
    "        temp = B[k][j]\n",
    "        B[k][j] = B[l][j]\n",
    "        B[l][j] = temp\n",
    "\n",
    "    return B\n",
    "\n",
    "def RowScale(A,k,scale):\n",
    "# =============================================================================\n",
    "#     A is a NumPy array.  RowScale will return duplicate array with the\n",
    "#     entries of row k multiplied by scale.\n",
    "# =============================================================================\n",
    "    m = A.shape[0]  # m is number of rows in A\n",
    "    n = A.shape[1]  # n is number of columns in A\n",
    "\n",
    "    B = np.copy(A).astype('float64')\n",
    "\n",
    "    for j in range(n):\n",
    "        B[k][j] *= scale\n",
    "\n",
    "    return B\n",
    "\n",
    "def RowAdd(A,k,l,scale):\n",
    "# =============================================================================\n",
    "#     A is a numpy array.  RowAdd will return duplicate array with row\n",
    "#     l modifed.  The new values will be the old values of row l added to\n",
    "#     the values of row k, multiplied by scale.\n",
    "# =============================================================================\n",
    "    m = A.shape[0]  # m is number of rows in A\n",
    "    n = A.shape[1]  # n is number of columns in A\n",
    "\n",
    "    B = np.copy(A).astype('float64')\n",
    "\n",
    "    for j in range(n):\n",
    "        B[l][j] += B[k][j]*scale\n",
    "\n",
    "    return B"
   ]
  },
  {
   "cell_type": "markdown",
   "metadata": {},
   "source": [
    "Membuat array NumPy dengan nilai-nilai dibawah ini, dan memberi nama pada array A, agar bisa dipanggil lagi."
   ]
  },
  {
   "cell_type": "code",
   "execution_count": 2,
   "metadata": {},
   "outputs": [
    {
     "name": "stdout",
     "output_type": "stream",
     "text": [
      "[[ 8  9  1 19]\n",
      " [ 1  2  3  9]\n",
      " [ 2  1  1  5]]\n"
     ]
    }
   ],
   "source": [
    "import numpy as np\n",
    "A =np.array([[8,9,1,19],[1,2,3,9],[2,1,1,5]])\n",
    "print(A)"
   ]
  },
  {
   "cell_type": "code",
   "execution_count": 3,
   "metadata": {},
   "outputs": [
    {
     "name": "stdout",
     "output_type": "stream",
     "text": [
      "[[ 1.  2.  3.  9.]\n",
      " [ 8.  9.  1. 19.]\n",
      " [ 2.  1.  1.  5.]]\n"
     ]
    }
   ],
   "source": [
    "# Pindahkan baris 0 ke baris 1\n",
    "A1 = RowSwap(A,0,1)\n",
    "print(A1)"
   ]
  },
  {
   "cell_type": "code",
   "execution_count": 4,
   "metadata": {},
   "outputs": [
    {
     "name": "stdout",
     "output_type": "stream",
     "text": [
      "[[  1.   2.   3.   9.]\n",
      " [  0.  -7. -23. -53.]\n",
      " [  2.   1.   1.   5.]]\n"
     ]
    }
   ],
   "source": [
    "# Tambahkan -8 kali baris 0 ke baris 1\n",
    "A2 = RowAdd(A1,0,1,-8)\n",
    "print(A2)"
   ]
  },
  {
   "cell_type": "code",
   "execution_count": 5,
   "metadata": {},
   "outputs": [
    {
     "name": "stdout",
     "output_type": "stream",
     "text": [
      "[[  1.   2.   3.   9.]\n",
      " [  0.  -7. -23. -53.]\n",
      " [  0.  -3.  -5. -13.]]\n"
     ]
    }
   ],
   "source": [
    "# Tambahkan -2 kali baris 0 ke baris 2\n",
    "A3 = RowAdd(A2,0,2,-2)\n",
    "print(A3)"
   ]
  },
  {
   "cell_type": "code",
   "execution_count": 6,
   "metadata": {},
   "outputs": [
    {
     "name": "stdout",
     "output_type": "stream",
     "text": [
      "[[  1.           2.           3.           9.        ]\n",
      " [ -0.           1.           3.28571429   7.57142857]\n",
      " [  0.          -3.          -5.         -13.        ]]\n"
     ]
    }
   ],
   "source": [
    "# Kalikan baris 1 dengan -1/7\n",
    "A4 = RowScale(A3,1,-1/7)\n",
    "print(A4)"
   ]
  },
  {
   "cell_type": "code",
   "execution_count": 7,
   "metadata": {},
   "outputs": [
    {
     "name": "stdout",
     "output_type": "stream",
     "text": [
      "[[ 1.          2.          3.          9.        ]\n",
      " [-0.          1.          3.28571429  7.57142857]\n",
      " [ 0.          0.          4.85714286  9.71428571]]\n"
     ]
    }
   ],
   "source": [
    "# Tambahkan 3 kali baris 1 ke baris 2\n",
    "A5 = RowAdd(A4,1,2,3)\n",
    "print(A5)"
   ]
  },
  {
   "cell_type": "code",
   "execution_count": 8,
   "metadata": {},
   "outputs": [
    {
     "name": "stdout",
     "output_type": "stream",
     "text": [
      "[[ 1.          2.          3.          9.        ]\n",
      " [-0.          1.          3.28571429  7.57142857]\n",
      " [ 0.          0.          1.          2.        ]]\n"
     ]
    }
   ],
   "source": [
    "# Kalikan baris 2 dengan 1/4\n",
    "A6 = RowScale(A5,2,1/4.85714286)\n",
    "print(A6)"
   ]
  },
  {
   "cell_type": "markdown",
   "metadata": {},
   "source": [
    "## Penyelesaian\n",
    "$$  \n",
    "x_1+2x_2+3x_3=9\\\\ \n",
    "x_2+3.28571429x_3=7.57142857\\\\\n",
    "x_3=2\\\\\n",
    "$$"
   ]
  },
  {
   "cell_type": "code",
   "execution_count": 9,
   "metadata": {},
   "outputs": [
    {
     "name": "stdout",
     "output_type": "stream",
     "text": [
      "x3= 2\n",
      "x2= 1\n",
      "x1= 1\n"
     ]
    }
   ],
   "source": [
    "# Penyelesaian persamaanya\n",
    "x3 = 2\n",
    "print('x3=',x3)\n",
    "x2 = 7.57142857-(3.28571429*x3)\n",
    "print('x2=',round(x2))\n",
    "x1=9-2*x2-3*x3\n",
    "print('x1=',round(x1))"
   ]
  },
  {
   "cell_type": "code",
   "execution_count": 10,
   "metadata": {},
   "outputs": [
    {
     "data": {
      "image/png": "[encoded data removed]",
      "text/plain": [
       "<Figure size 640x480 with 1 Axes>"
      ]
     },
     "metadata": {},
     "output_type": "display_data"
    }
   ],
   "source": [
    "import numpy as np\n",
    "import matplotlib.pyplot as plt\n",
    "from mpl_toolkits.mplot3d import Axes3D\n",
    "\n",
    "# Koefisien untuk masing-masing persamaan bidang\n",
    "a1, b1, c1, r1 = 1, 2, 3, 9\n",
    "a2, b2, c2, r2 = -0, 1, 3.28571429, 7.57142857\n",
    "a3, b3, c3, r3 = 0, 0, 1, 2\n",
    "\n",
    "# Buat data x, y\n",
    "x = np.linspace(-10, 10, 100)\n",
    "y = np.linspace(-10, 10, 100)\n",
    "\n",
    "# Buat grid x, y\n",
    "X, Y = np.meshgrid(x, y)\n",
    "\n",
    "# Hitung nilai z sesuai dengan persamaan bidang\n",
    "Z1 = (r1 - a1*X - b1*Y) / c1\n",
    "Z2 = (r2 - a2*X - b2*Y) / c2\n",
    "Z3 = (r3 - a3*X - b3*Y) / c3\n",
    "\n",
    "# Plot persamaan bidang dalam tiga dimensi\n",
    "fig = plt.figure()\n",
    "ax = fig.add_subplot(111, projection='3d')\n",
    "\n",
    "# Plot bidang\n",
    "ax.plot_surface(X, Y, Z1, alpha=0.5, rstride=100, cstride=100, color='r')\n",
    "ax.plot_surface(X, Y, Z2, alpha=0.5, rstride=100, cstride=100, color='g')\n",
    "ax.plot_surface(X, Y, Z3, alpha=0.5, rstride=100, cstride=100, color='b')\n",
    "\n",
    "# Titik perpotongan\n",
    "A = np.array([[a1, b1, c1], [a2, b2, c2], [a3, b3, c3]])\n",
    "B = np.array([r1, r2, r3])\n",
    "intersect = np.linalg.solve(A, B)\n",
    "ax.scatter(intersect[0], intersect[1], intersect[2], color='black', s=100, label='Titik Perpotongan')\n",
    "\n",
    "# Label sumbu\n",
    "ax.set_xlabel('X')\n",
    "ax.set_ylabel('Y')\n",
    "ax.set_zlabel('Z')\n",
    "\n",
    "# Tampilkan legenda\n",
    "ax.legend()\n",
    "\n",
    "# Tampilkan plot\n",
    "plt.show()"
   ]
  }
 ],
 "metadata": {
  "kernelspec": {
   "display_name": "Python 3 (ipykernel)",
   "language": "python",
   "name": "python3"
  },
  "language_info": {
   "codemirror_mode": {
    "name": "ipython",
    "version": 3
   },
   "file_extension": ".py",
   "mimetype": "text/x-python",
   "name": "python",
   "nbconvert_exporter": "python",
   "pygments_lexer": "ipython3",
   "version": "3.10.13"
  }
 },
 "nbformat": 4,
 "nbformat_minor": 2
}
