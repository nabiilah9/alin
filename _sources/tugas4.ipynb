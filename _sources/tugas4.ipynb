{
 "cells": [
  {
   "cell_type": "markdown",
   "metadata": {},
   "source": [
    "# Determinan  \n",
    "Determinan adalah ukuran skalar dari suatu matriks atau suatu nilai yang dihitung dari elemen-elemen matriks. Matriks tersebut harus persegi/bujur sangkar dengan jumlah baris dan kolom harus sama. misalnya terdapat suatu matriks 2x2 (memiliki jumlah baris dan kolom yang sama) maka dapat dihitung determinanya.  \n",
    "\n",
    "## Sifat-Sifat Determinan :  \n",
    "1. Determinan dari suatu matriks identitas adalah 1 ."
   ]
  },
  {
   "cell_type": "code",
   "execution_count": 3,
   "metadata": {},
   "outputs": [
    {
     "name": "stdout",
     "output_type": "stream",
     "text": [
      "Matriks C : \n",
      " [[1 0]\n",
      " [0 1]]\n",
      "Matriks D : \n",
      " [[1 0 0]\n",
      " [0 1 0]\n",
      " [0 0 1]]\n"
     ]
    }
   ],
   "source": [
    "import numpy as np\n",
    "C = np.array([[1,0], [0,1]])\n",
    "D = np.array([[1,0,0], [0,1,0], [0,0,1]])\n",
    "print(\"Matriks C : \\n\", C)\n",
    "print(\"Matriks D : \\n\", D)"
   ]
  },
  {
   "cell_type": "code",
   "execution_count": 4,
   "metadata": {},
   "outputs": [
    {
     "name": "stdout",
     "output_type": "stream",
     "text": [
      "1.0\n"
     ]
    }
   ],
   "source": [
    "E = np.linalg.det(C)\n",
    "print(E)"
   ]
  },
  {
   "cell_type": "markdown",
   "metadata": {},
   "source": [
    "- Penjelasan:\n",
    "Dapat dilihat diatas bahwa determinan dari matriks identitas C 2x2 adalah 1 "
   ]
  },
  {
   "cell_type": "markdown",
   "metadata": {},
   "source": [
    "2. Jika terdapat determinan C = determinan(A.B)  \n",
    "                              = determinan(A).determinan(B)  \n",
    "                              = A.A^1"
   ]
  },
  {
   "cell_type": "code",
   "execution_count": 14,
   "metadata": {},
   "outputs": [
    {
     "name": "stdout",
     "output_type": "stream",
     "text": [
      "determinan A :  1\n",
      "determinan B :  1\n",
      "det.A x det.B : 1\n",
      "[[1. 0.]\n",
      " [0. 1.]]\n"
     ]
    }
   ],
   "source": [
    "A = np.array([[2,1], [3,2]])\n",
    "B = np.linalg.inv(A)\n",
    "A1 = np.linalg.det(A)\n",
    "B1 = np.linalg.det(B)\n",
    "\n",
    "print(\"determinan A : \", round(A1))\n",
    "print(\"determinan B : \",round(B1))\n",
    "C = A1*B1\n",
    "print(\"det.A x det.B :\",round(C))\n",
    "print(A@B)"
   ]
  },
  {
   "cell_type": "markdown",
   "metadata": {},
   "source": [
    "- Penjelasan : pada code diatas dapat dilihat bahwa jika determinan A x determinann B = 1 , sama dengan determinan A.A^1 yaitu 1 (pada variabel E)."
   ]
  },
  {
   "cell_type": "markdown",
   "metadata": {},
   "source": [
    "3. Jika menukar baris pada suatu matriks, maka akan mengubah tanda determinanya juga. misalnya pada matriks D sebagai acuan determinan sebelum ada perubahan baris."
   ]
  },
  {
   "cell_type": "code",
   "execution_count": 16,
   "metadata": {},
   "outputs": [
    {
     "name": "stdout",
     "output_type": "stream",
     "text": [
      "determinan matriks F :  5\n"
     ]
    }
   ],
   "source": [
    "import numpy as np\n",
    "D = np.array([[1,4,2], [1,1,1],[3,2,1]])\n",
    "E = np.linalg.det(D)\n",
    "F = round(E)\n",
    "print(\"determinan matriks D : \",F)"
   ]
  },
  {
   "cell_type": "code",
   "execution_count": 18,
   "metadata": {},
   "outputs": [
    {
     "name": "stdout",
     "output_type": "stream",
     "text": [
      "determinan matriks D : -5\n"
     ]
    }
   ],
   "source": [
    "D1 = np.array([[1,1,1], [1,4,2],[3,2,1]])\n",
    "D2 = np.linalg.det(D1)\n",
    "print(\"determinan matriks D :\", round(D2))"
   ]
  },
  {
   "cell_type": "markdown",
   "metadata": {},
   "source": [
    "- Penjelasan : dapat dilihat bahwa terdapat perubahan tanda determinan setelah ada perubahan baris 0 matriks ke baris 1 matriks. yaitu sebelum diubah determinan = 5, setelah diubah determinan= -5."
   ]
  },
  {
   "cell_type": "markdown",
   "metadata": {},
   "source": [
    "4. Jika menukar kolom pada suatu matriks, maka akan mengubah tanda dari determinan. "
   ]
  },
  {
   "cell_type": "code",
   "execution_count": 6,
   "metadata": {},
   "outputs": [
    {
     "name": "stdout",
     "output_type": "stream",
     "text": [
      "matriks D :\n",
      " [[1 4 2]\n",
      " [1 1 1]\n",
      " [3 2 1]]\n",
      "determinan D : 5\n",
      "matriks D1 :\n",
      " [[4 1 2]\n",
      " [1 1 1]\n",
      " [2 3 1]]\n",
      "determinan D1: -5\n"
     ]
    }
   ],
   "source": [
    "import numpy as np\n",
    "D = np.array([[1,4,2], [1,1,1],[3,2,1]])\n",
    "E = np.linalg.det(D)\n",
    "F = round(E)\n",
    "print(\"matriks D :\\n\", D)\n",
    "print(\"determinan D :\", F)\n",
    "D1 = np.array([[4,1,2], [1,1,1],[2,3,1]])\n",
    "E1 = np.linalg.det(D1)\n",
    "F1 = round(E1)\n",
    "print(\"matriks D1 :\\n\", D1)\n",
    "print(\"determinan D1:\", F1)\n"
   ]
  },
  {
   "cell_type": "markdown",
   "metadata": {},
   "source": [
    "- Penjelasan : terdapat perubahan tanda determinan pada matriks D setelah kolom 0 di pindah pada kolom 1, yang awal determinanya 5 menjadi -5 "
   ]
  },
  {
   "cell_type": "markdown",
   "metadata": {},
   "source": [
    "5. Jika baris dari suatu matriks merupakan kelipatan dari baris lain maka determinanya 0. kelipatan bisa 2 kali, 3 kali, dst."
   ]
  },
  {
   "cell_type": "code",
   "execution_count": 7,
   "metadata": {},
   "outputs": [
    {
     "name": "stdout",
     "output_type": "stream",
     "text": [
      "0.0\n"
     ]
    }
   ],
   "source": [
    "import numpy as np\n",
    "P = np.array([[1,4,2], [2,8,4], [3,2,1]])\n",
    "print(np.linalg.det(P))"
   ]
  },
  {
   "cell_type": "markdown",
   "metadata": {},
   "source": [
    "- Penjelasan : pada matriks P baris ke 1 merupakan kelipatan2 kali dari baris ke 0, jadi determinanya yait 0"
   ]
  },
  {
   "cell_type": "markdown",
   "metadata": {},
   "source": [
    "6. Jika kolom dari suatu matriks merupakan kelipatan dari kolom lain, maka determinan = 0."
   ]
  },
  {
   "cell_type": "code",
   "execution_count": 8,
   "metadata": {},
   "outputs": [
    {
     "name": "stdout",
     "output_type": "stream",
     "text": [
      "0.0\n"
     ]
    }
   ],
   "source": [
    "import numpy as np\n",
    "Q = np.array([[1,4,2], [2,8,3], [1,4,1]])\n",
    "print(np.linalg.det(Q))"
   ]
  },
  {
   "cell_type": "markdown",
   "metadata": {},
   "source": [
    "- Penjelasan : Pada matriks Q kolom 1 merupakan 4 kali dari kolom 0, sehingga ada kelipatan antar kolom maka determinanya adalah 0"
   ]
  },
  {
   "cell_type": "markdown",
   "metadata": {},
   "source": [
    "7. Determinan A = determinan A transpose, jumlah determinan suatu matriks A sama dengan determinan A transpose."
   ]
  },
  {
   "cell_type": "code",
   "execution_count": 11,
   "metadata": {},
   "outputs": [
    {
     "name": "stdout",
     "output_type": "stream",
     "text": [
      "determinan A : \n",
      " 5\n",
      "determinan A transpose :\n",
      " 5\n"
     ]
    }
   ],
   "source": [
    "# det A = det A transpose\n",
    "import numpy as np\n",
    "A = np.array([[1,4,2], [1,1,1],[3,2,1]])\n",
    "A_T = np.transpose(A)\n",
    "B = np.linalg.det(A)\n",
    "C = np.linalg.det(A_T)\n",
    "print(\"determinan A : \\n\", round(B))\n",
    "print(\"determinan A transpose :\\n\", round(C))"
   ]
  },
  {
   "cell_type": "markdown",
   "metadata": {},
   "source": [
    "8. Matriks segitiga atas : jika dibawah diagonal utama [1,1,1] adalah 0, meskipun diatas diagonal utama tidak nol. Sedangkan Matriks segitiga bawah : jika diatas diagonal utama [1,1,1] adalah 0, meskipun dibawah diagonal utama tidak nol. jika melakukan operasi baris elementer tidak akan merubah determinan matriks tersebut."
   ]
  },
  {
   "cell_type": "code",
   "execution_count": 13,
   "metadata": {},
   "outputs": [],
   "source": [
    "def RowSwap(A,k,l):\n",
    "# =============================================================================\n",
    "#     A is a NumPy array.  RowSwap will return duplicate array with rows\n",
    "#     k and l swapped.\n",
    "# =============================================================================\n",
    "    m = A.shape[0]  # m is number of rows in A\n",
    "    n = A.shape[1]  # n is number of columns in A\n",
    "\n",
    "    B = np.copy(A).astype('float64')\n",
    "\n",
    "    for j in range(n):\n",
    "        temp = B[k][j]\n",
    "        B[k][j] = B[l][j]\n",
    "        B[l][j] = temp\n",
    "\n",
    "    return B\n",
    "\n",
    "def RowScale(A,k,scale):\n",
    "# =============================================================================\n",
    "#     A is a NumPy array.  RowScale will return duplicate array with the\n",
    "#     entries of row k multiplied by scale.\n",
    "# =============================================================================\n",
    "    m = A.shape[0]  # m is number of rows in A\n",
    "    n = A.shape[1]  # n is number of columns in A\n",
    "\n",
    "    B = np.copy(A).astype('float64')\n",
    "\n",
    "    for j in range(n):\n",
    "        B[k][j] *= scale\n",
    "\n",
    "    return B\n",
    "\n",
    "def RowAdd(A,k,l,scale):\n",
    "# =============================================================================\n",
    "#     A is a numpy array.  RowAdd will return duplicate array with row\n",
    "#     l modifed.  The new values will be the old values of row l added to\n",
    "#     the values of row k, multiplied by scale.\n",
    "# =============================================================================\n",
    "    m = A.shape[0]  # m is number of rows in A\n",
    "    n = A.shape[1]  # n is number of columns in A\n",
    "\n",
    "    B = np.copy(A).astype('float64')\n",
    "\n",
    "    for j in range(n):\n",
    "        B[l][j] += B[k][j]*scale\n",
    "\n",
    "    return B"
   ]
  },
  {
   "cell_type": "code",
   "execution_count": 45,
   "metadata": {},
   "outputs": [
    {
     "name": "stdout",
     "output_type": "stream",
     "text": [
      "[[1 4 2]\n",
      " [1 1 1]\n",
      " [3 2 1]]\n",
      "determinan A :  5\n"
     ]
    }
   ],
   "source": [
    "import numpy as np \n",
    "A = np.array([[1,4,2], [1,1,1],[3,2,1]])\n",
    "print(A)\n",
    "A1 = np.linalg.det(A)\n",
    "print(\"determinan : \", round(A1))"
   ]
  },
  {
   "cell_type": "code",
   "execution_count": 46,
   "metadata": {},
   "outputs": [
    {
     "name": "stdout",
     "output_type": "stream",
     "text": [
      "[[ 1.  4.  2.]\n",
      " [ 0. -3. -1.]\n",
      " [ 3.  2.  1.]]\n",
      "deteminan setelah ada OBE :  5\n"
     ]
    }
   ],
   "source": [
    "B = RowAdd(A, 0, 1, -1)\n",
    "print(B)\n",
    "B1 = np.linalg.det(B)\n",
    "print(\"deteminan setelah ada OBE : \", round(B1))"
   ]
  },
  {
   "cell_type": "markdown",
   "metadata": {},
   "source": [
    "- Penjelasan : meskipun telah ada operasi baris elementer, tanda determinan tetap. "
   ]
  },
  {
   "cell_type": "markdown",
   "metadata": {},
   "source": [
    "### Cofactor Expansion  \n",
    "\n",
    "Cofactor expansion digunakan untuk mencari determinan dari suatu matriks dengan memanfaatkan kofaktor. Kofaktor merupakan  suatu elemen dalam suatu matriks ditentukan oleh minor elemen tersebut yang diperoleh dengan menghilangkan baris dan kolom yang memuat elemen tersebut.  \n",
    "\n",
    "Rumus cofactor:\n",
    "$C_ij = (−1)^{(𝑖+𝑗)}. 𝑑𝑒𝑡(M_𝑖𝑗)$  \n",
    "\n",
    "Misalnya mencari determinan matriks 4x4 dengan cofactor expansion. \n",
    "$$\n",
    "\\begin{equation*}\n",
    "A=\n",
    "\\begin{bmatrix}\n",
    "2&4&1&2 \\\\\n",
    "1&3&1&1 \\\\\n",
    "2&3&2&4 \\\\\n",
    "2&2&1&4 \\\\\n",
    "\\end{bmatrix}\n",
    "\\end{equation*}\n",
    "$$  \n",
    "\n",
    "- Menggunakan baris 1 = $a_{11} c_{11} + a_{12} c_{12} + a_{13} c_{13} + a_{14} c_{14}$  \n",
    "- Kemudian cari kofaktor matriks A dengan :\n",
    "$$\n",
    "c_{11}=(-1)^{1+1}.det(M_{11})\\\\\n",
    "c_{12}=(-1)^{1+2}.det(M_{12})\\\\\n",
    "c_{13}=(-1)^{1+3}.det(M_{13})\\\\\n",
    "c_{14}=(-1)^{1+4}.det(M_{14})\\\\\n",
    "$$  \n",
    "\n",
    "- Kemudian cari determinan matriks minor dari matriks A :  \n",
    "\n",
    "**1. Detrminan M11**  \n",
    "\n",
    "$\n",
    "\\begin{matrix} \\\\\n",
    "     M_{11} \\space = \\begin{bmatrix} \n",
    "    3&1&1 \\\\\n",
    "    3&2&4 \\\\\n",
    "    2&1&4 \\\\\n",
    "  \\end{bmatrix} \\\\ \\\\\n",
    "\\end{matrix} \\\\\n",
    "$  \n",
    "$\n",
    "Menggunakan \\space baris \\space 1 = a_{11}c_{11} + a_{12}c_{12} + a_{13}c_{13} \\\\\n",
    "$  \n",
    "\n",
    "$\n",
    "c_{11} = (-1)^{1+1}. det(M_{11}) = (-1)^{1+1}det(\n",
    "\\begin{matrix}\n",
    "  \\begin{bmatrix}\n",
    "    2&4 \\\\\n",
    "    1&4\n",
    "  \\end{bmatrix}) \n",
    "\\end{matrix} = 1.4\n",
    "$\n",
    "\n",
    "$\n",
    "c_{12} = (-1)^{1+2}det(M_{12}) = (-1)^{1+2}det\n",
    "\\begin{matrix}(\n",
    "\\begin{bmatrix}\n",
    "    3&4 \\\\\n",
    "    2&4\n",
    "\\end{bmatrix}) \n",
    "\\end{matrix} = -1.4\n",
    "$\n",
    "\n",
    "$\n",
    "c_{13} = (-1)^{1+3}det(M_{13}) = (-1)^{1+3}det\n",
    "\\begin{matrix}(\n",
    "\\begin{bmatrix}\n",
    "    3&2 \\\\\n",
    "    2&1\n",
    "\\end{bmatrix})\n",
    "\\end{matrix} = 1.-1\n",
    "$  \n",
    "\n",
    "$\n",
    "a_{11}c_{11} + a_{12}c_{12} + a_{13}c_{13} = 3.1.4 + 1.-1.4 + 1.1.-1 \\\\ \n",
    "$  \n",
    "\n",
    "$\n",
    "det(M_{11}) \\space = 12+ -4 + -1 =  7\n",
    "$  \n",
    "Determinan $M_{11}$ adalah **7** \n",
    "\n",
    "\n",
    " \n",
    "\n",
    "\n",
    "\n",
    "\n"
   ]
  },
  {
   "cell_type": "markdown",
   "metadata": {},
   "source": [
    "**2. Determinan M12**  \n",
    "Mencari determinan dari $M_{12}$ \n",
    "$\n",
    "\\begin{matrix} \\\\\n",
    " M_{12} \\space  = \\begin{bmatrix} \n",
    "    1&1&1 \\\\\n",
    "    2&2&4 \\\\\n",
    "    2&1&4 \\\\\n",
    "  \\end{bmatrix} \\\\ \\\\\n",
    "\\end{matrix} \\\\\n",
    "$  \n",
    "\n",
    "\n",
    "$\n",
    "Menggunakan \\space Baris \\space 1 = a_{11}c_{11} + a_{12}c_{12} + a_{13}c_{13} \n",
    "$\n",
    "\n",
    "$\n",
    "c_{11} = (-1)^{1+1}det(M_{11}) = (-1)^{1+1} det\n",
    "\\begin{matrix}(\n",
    "  \\begin{bmatrix}\n",
    "   2&4 \\\\\n",
    "   1&4 \n",
    "  \\end{bmatrix})\n",
    "\\end{matrix} = 1.4\n",
    "$  \n",
    "\n",
    "$\n",
    "c_{12} = (-1)^{1+2}det(M_{12}) = (-1)^{1+2} det \n",
    "\\begin{matrix}(\n",
    "  \\begin{bmatrix}\n",
    "   2&4 \\\\\n",
    "   2&4\n",
    "  \\end{bmatrix})\n",
    "\\end{matrix} = -1.0\n",
    "$  \n",
    "\n",
    "$\n",
    "c_{13} = (-1)^{1+3}det(M_{13}) = (-1)^{1+3} det\n",
    "\\begin{matrix}(\n",
    "  \\begin{bmatrix}\n",
    "    2&2 \\\\\n",
    "    2&1\n",
    "  \\end{bmatrix})\n",
    "\\end{matrix}   = 1.-2\n",
    "$  \n",
    "\n",
    "$\n",
    "a_{11}c_{11} + a_{12}c_{12} + a_{13}c_{13} = 1.1.4 + 1.-1.0 + 1.1.-2 \n",
    "$  \n",
    "\n",
    "$\n",
    "det(M_{22}) \\space= 4 + 0 + (-2) =  2\n",
    "$  \n",
    "\n",
    "Determinan dari $M_{12}$ adalah **2** "
   ]
  },
  {
   "cell_type": "markdown",
   "metadata": {},
   "source": [
    "**3. Determinan M13**  \n",
    "Mencari determinan dari $M_{13}$\n",
    "$\n",
    "\\begin{matrix} \n",
    " M_{13} \\space = \\begin{bmatrix} \n",
    "    1&3&1 \\\\\n",
    "    2&3&4 \\\\\n",
    "    2&2&4 \\\\\n",
    "  \\end{bmatrix} \n",
    "\\end{matrix} \n",
    "$  \n",
    "\n",
    "$\n",
    "Menggunakan \\space Baris \\space 1 = a_{11}c_{11} + a_{12}c_{12} + a_{13}c_{13} \\\\\n",
    "$  \n",
    "\n",
    "$\n",
    "c_{11} = (-1)^{1+1}det(M_{11}) = (-1)^{1+1} det\n",
    "\\begin{matrix}(\n",
    "  \\begin{bmatrix}\n",
    "   3&4 \\\\\n",
    "   2&4 \n",
    "  \\end{bmatrix})\n",
    "\\end{matrix}   = 1.4\n",
    "$  \n",
    "\n",
    "$\n",
    "c_{12} = (-1)^{1+2}det(M_{12}) = (-1)^{1+2} det \n",
    "\\begin{matrix}(\n",
    "  \\begin{bmatrix}\n",
    "   2&4 \\\\\n",
    "   2&4\n",
    "  \\end{bmatrix})\n",
    "\\end{matrix}  = -1.0\n",
    "$  \n",
    "\n",
    "$\n",
    "c_{13} = (-1)^{1+3}det(M_{13}) = (-1)^{1+3} det\n",
    "\\begin{matrix}(\n",
    "  \\begin{bmatrix}\n",
    "    2&3 \\\\\n",
    "    2&2\n",
    "  \\end{bmatrix})\n",
    "\\end{matrix}  = 1.-2\n",
    "$  \n",
    "\n",
    "$\n",
    "a_{11}c_{11} + a_{12}c_{12} + a_{13}c_{13} = 1.1.4 + 3.-1.0 + 1.1.-2 \\\\ \n",
    "$  \n",
    "\n",
    "$\n",
    "det(M_{13}) \\space = 4 + 0 + -2 = 2\n",
    "$  \n",
    "Determinan dari $M_{13}$ adalah **2**  "
   ]
  },
  {
   "cell_type": "markdown",
   "metadata": {},
   "source": [
    "**4. Determinan M14**  \n",
    "Mencari determinan dari $M_{14}$\n",
    "$\n",
    "\\begin{matrix} \n",
    " M_{14} \\space = \\begin{bmatrix} \n",
    "    1&3&1 \\\\\n",
    "    2&3&2 \\\\\n",
    "    2&2&1 \\\\\n",
    "  \\end{bmatrix} \n",
    "\\end{matrix} \n",
    "$  \n",
    "\n",
    "$\n",
    "Menggunakan \\space Baris \\space 1 = a_{11}c_{11} + a_{12}c_{12} + a_{13}c_{13} \\\\\n",
    "$  \n",
    "\n",
    "$\n",
    "c_{11} = (-1)^{1+1}det(M_{11}) = (-1)^{1+1} det\n",
    "\\begin{matrix}(\n",
    "  \\begin{bmatrix}\n",
    "   3&2 \\\\\n",
    "   2&1 \n",
    "  \\end{bmatrix})\n",
    "\\end{matrix}   = 1.-1\n",
    "$  \n",
    "\n",
    "$\n",
    "c_{12} = (-1)^{1+2}det(M_{12}) = (-1)^{1+2} det \n",
    "\\begin{matrix}(\n",
    "  \\begin{bmatrix}\n",
    "   2&2 \\\\\n",
    "   2&1\n",
    "  \\end{bmatrix})\n",
    "\\end{matrix}  = -1.-2\n",
    "$  \n",
    "\n",
    "$\n",
    "c_{13} = (-1)^{1+3}det(M_{13}) = (-1)^{1+3} det\n",
    "\\begin{matrix}(\n",
    "  \\begin{bmatrix}\n",
    "    2&3 \\\\\n",
    "    2&2\n",
    "  \\end{bmatrix})\n",
    "\\end{matrix}  = 1.-2\n",
    "$  \n",
    "\n",
    "$\n",
    "a_{11}c_{11} + a_{12}c_{12} + a_{13}c_{13} = 1.1.-1 + 3.-1.-2 + 1.1.-2 \\\\ \n",
    "$  \n",
    "\n",
    "$\n",
    "det(M_{14}) \\space = -1 + 6 + -2 = 3\n",
    "$  \n",
    "Determinan dari $M_{14}$ adalah **3**  "
   ]
  },
  {
   "cell_type": "markdown",
   "metadata": {},
   "source": [
    "**Diketahui bahwa :**\n",
    "$\n",
    "det(M_{11}) = 7  \n",
    "$\n",
    "\n",
    "$\n",
    "det(M_{12}) = 2 \n",
    "$\n",
    "\n",
    "$ \n",
    "det(M_{13}) = 2  \n",
    "$\n",
    "\n",
    "$\n",
    "det(M_{14}) = 3  \n",
    "$  \n",
    "\n",
    "Masukkan nilai nilai determinan yang telah diketahui dari Matriks-matriks minor: \n",
    "\n",
    "$\n",
    "c_{11} = (-1)^{1+1}det(M_{11}) = 1.7  \n",
    "$\n",
    "\n",
    "$\n",
    "c_{12} = (-1)^{1+2}det(M_{12}) = -1.2\n",
    "$  \n",
    "\n",
    "$\n",
    "c_{13} = (-1)^{1+3}det(M_{13}) = 1.2\n",
    "$  \n",
    "\n",
    "$\n",
    "c_{14} = (-1)^{1+4}det(M_{14}) = -1.3 \\\\ \n",
    "$  \n",
    "\n",
    "$\n",
    "a_{11}c_{11} + a_{12}c_{12} + a_{13}c_{13} + a_{14}c_{14} = 2.1.7 + 4.-1.2 + 1.1.2 + 2.-1.3 \\\\\n",
    "$  \n",
    "\n",
    "$\n",
    "det(A) = 14 + (-8) + 2 + (-6) = 2\n",
    "$    \n",
    "  \n",
    "**Jadi Determinan dari Matriks A = 2**"
   ]
  },
  {
   "cell_type": "code",
   "execution_count": 12,
   "metadata": {},
   "outputs": [
    {
     "name": "stdout",
     "output_type": "stream",
     "text": [
      "Matriks A: \n",
      " [[2 4 1 2]\n",
      " [1 3 1 1]\n",
      " [2 3 2 4]\n",
      " [2 2 1 4]]\n",
      "\n",
      "Determinan A :  2\n"
     ]
    }
   ],
   "source": [
    "import numpy as np\n",
    "A = np.array([[2,4,1,2], [1,3,1,1], [2,3,2,4], [2,2,1,4]])\n",
    "B = np.linalg.det(A)\n",
    "print(\"Matriks A: \\n\", A)\n",
    "print()\n",
    "print(\"Determinan A : \", round(B))"
   ]
  },
  {
   "cell_type": "markdown",
   "metadata": {},
   "source": [
    "Dapat dilihat bahawa hasil perhitungan manual mencari determinan dengan kofaktor sama dengan perhitungan menggunakan python yaitu 2."
   ]
  }
 ],
 "metadata": {
  "kernelspec": {
   "display_name": "Python 3 (ipykernel)",
   "language": "python",
   "name": "python3"
  }
 },
 "nbformat": 4,
 "nbformat_minor": 2
}
