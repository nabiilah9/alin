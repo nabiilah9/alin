{
 "cells": [
  {
   "cell_type": "markdown",
   "metadata": {},
   "source": [
    "# Aljabar Matriks\n",
    "\n",
    "Matriks merupakan susunan bilangan real yang dapat diidentifikasi baris dan kolom nya yang ditempatkan didalam kurung siku. Matriks dapat dinotasikan dengan huruf kapital seperti A,B, dan seterusnya. Didalam matriks terdapat elemen-elemen matriks yang dinotasikan dengan huruf kecil yang setiap elemen memiliki baris dan kolom yang berbeda, seperti $a_{ij}=$ a elemen, i baris, j kolom. contoh: $a_{12}$ artinya elemen a terletak dibaris 1 dan kolom ke 2.  \n",
    "\n",
    "* Ukuran matriks ditentukan oleh jumlah baris dan kolom.  \n",
    "contoh : Matriks A berukuran 3x3 (3 baris 3 kolom)\n",
    "$\n",
    "A=\n",
    "\\begin{bmatrix}\n",
    "2 & 4 & 5\\\\\n",
    "4 & 6 & 9\n",
    "\\end{bmatrix}\n",
    "$\n",
    "\n",
    "\n",
    "## Jenis-jenis matriks:\n",
    "1. Matriks nol, matriks yang semua elemen\n",
    "penyusunnnya nol.\n",
    "2. Matriks baris, matriks yang elemennya hanya satu baris.\n",
    "3. Matriks kolom, matriks yang elemennya hanya satu kolom.\n",
    "4. Matriks persegi adalah matriks yang mempunyai jumlah baris dan kolom yang sama.\n",
    "5. Matriks diagonal,matriks persegi yang semua elemen di luar diagonal utamanya bernilai nol.\n",
    "6. Matriks skalar, matriks yang elemen pada diagonal utamanya sama dan elemen diluar diagonal bernilai nol.\n",
    "7. Matriks identitas, matriks skalar yang elemen pada diagonal utamanya sama dengan satu.\n",
    "8. Matriks simetri, matriks persegi yang sama dengan transpose matriks itu sendiri.\n",
    "9. Matriks simetri miring, matriks persegi yang sama dengan negatif matriks transposnya\n",
    "10. Matriks segitiga atas, matriks persegi yang elemen-elemen di bawah diagonal utamanya adalah nol.\n",
    "11. Matriks segitiga bawah, matriks persegi yang elem-elemen di atas diagonal utamanya adalah nol.\n",
    "12. Matriks tranpose, matriks yang mengubah elemen dari baris menjadi kolom. \n",
    "\n",
    "## Implementasi Matriks dengan Numpy  "
   ]
  },
  {
   "cell_type": "code",
   "execution_count": 1,
   "metadata": {},
   "outputs": [
    {
     "name": "stdout",
     "output_type": "stream",
     "text": [
      "A=\n",
      " [[1 3 6]\n",
      " [2 1 5]\n",
      " [4 2 1]]\n",
      "B=\n",
      " [[3 1 6]\n",
      " [5 5 3]\n",
      " [5 8 9]]\n",
      "C=\n",
      " [[4 5]\n",
      " [5 0]\n",
      " [7 8]]\n",
      "D=\n",
      " [[3 3 6]\n",
      " [5 7 3]\n",
      " [5 8 8]]\n",
      "\n",
      "\n",
      "Ukuran matriks : (3, 3)\n",
      "Jumlah baris : 3\n",
      "Jumlah kolom : 3\n"
     ]
    }
   ],
   "source": [
    "import numpy as np\n",
    "A = np.array([[1,3,6],[2,1,5],[4,2,1]])\n",
    "B = np.array([[3,1,6],[5,5,3],[5,8,9]])\n",
    "C = np.array([[4,5],[5,0],[7,8]])\n",
    "D = np.array([[3,3,6],[5,7,3],[5,8,8]])\n",
    "\n",
    "print(\"A=\\n\",A)\n",
    "print(\"B=\\n\",B)\n",
    "print(\"C=\\n\",C)\n",
    "print(\"D=\\n\",D)\n",
    "print(\"\\n\")\n",
    "print(\"Ukuran matriks :\",A.shape) #ukuran matriks\n",
    "print(\"Jumlah baris :\", A.shape[0])# jumlah baris\n",
    "print(\"Jumlah kolom :\", A.shape[1])# jumlah kolom"
   ]
  },
  {
   "cell_type": "markdown",
   "metadata": {},
   "source": [
    "Dengan metode *Shape* kita dapat mengakses ukuran matriks, berdasarkan jumlah baris dan kolom dalam array. Contoh: Matriks A memilki ukuran 3x3 dengan rincian 3 baris dan 3 kolom."
   ]
  },
  {
   "cell_type": "code",
   "execution_count": 2,
   "metadata": {},
   "outputs": [
    {
     "name": "stdout",
     "output_type": "stream",
     "text": [
      "[[2 2 4]\n",
      " [4 0 1]\n",
      " [2 3 4]]\n"
     ]
    }
   ],
   "source": [
    "y = np.random.randint(5,size=(3,3)) # menampilkan angka random dengan rentang 0-5 dengan ukuran matriks 3x3\n",
    "print(y)"
   ]
  },
  {
   "cell_type": "markdown",
   "metadata": {},
   "source": [
    "## Operasi-operasi Matriks  \n",
    "\n",
    "1. ***Penjumlahan Matriks***  \n",
    "matriks dapat dijumlahkan apabila ukuran matriks sama, berdasarkan jumlah baris dan kolom yang sama.  \n",
    "\n",
    "* Sifat-sifat Penjumlahan matriks :\n",
    "\n",
    "Contoh Penjumlahan Matriks  \n",
    "\n",
    "$$\n",
    "A = \n",
    "\\begin{bmatrix}\n",
    "1&3&6\\\\\n",
    "2&1&5\\\\\n",
    "4&2&1\n",
    "\\end{bmatrix}\n",
    "\n",
    "B =\n",
    "\\begin{bmatrix}\n",
    "3&1&6\\\\\n",
    "5&5&3\\\\\n",
    "5&8&9\n",
    "\\end{bmatrix}\\\\\n",
    "$$\n",
    "\n",
    "$$\n",
    "A + B =\n",
    "\\begin{bmatrix}\n",
    "1+3&3+1&6+6\\\\\n",
    "2+5&1+5&5+3\\\\\n",
    "4+5&2+8&1+9\n",
    "\\end{bmatrix}\n",
    "$$\n",
    "\n",
    "$$\n",
    "=\n",
    "\\begin{bmatrix}\n",
    "4&4&12\\\\\n",
    "7&6&8\\\\\n",
    "9&10&10\n",
    "\\end{bmatrix}\n",
    "$$"
   ]
  },
  {
   "cell_type": "code",
   "execution_count": 3,
   "metadata": {},
   "outputs": [
    {
     "name": "stdout",
     "output_type": "stream",
     "text": [
      "A+B =\n",
      " [[ 4  4 12]\n",
      " [ 7  6  8]\n",
      " [ 9 10 10]]\n"
     ]
    }
   ],
   "source": [
    "# Penjumlahan Matriks\n",
    "import numpy as np\n",
    "A = np.array([[1,3,6],[2,1,5],[4,2,1]])\n",
    "B = np.array([[3,1,6],[5,5,3],[5,8,9]])\n",
    "C = np.array([[4,5],[5,0],[7,8]])\n",
    "D = np.array([[3,3,6],[5,7,3],[5,8,8]])\n",
    "print(\"A+B =\\n\", A+B)"
   ]
  },
  {
   "cell_type": "markdown",
   "metadata": {},
   "source": [
    "Penjelasan :  \n",
    "a. Matriks $A$ dan $B$ berhasil dijumlahkan karena memiliki ukuran matriks yang sama yaitu $3x3$.  \n",
    "b. Sedangkan matriks $A$ dan $C$ tidak bisa dijumlahkan karena berbeda ukuran matriksnya yaitu $A (3x3), C (3x2)$"
   ]
  },
  {
   "cell_type": "markdown",
   "metadata": {},
   "source": [
    "2. ***Pengurangan matriks***  \n",
    "matriks dapat dikurangi apabila ukuran matriks sama, berdasarkan jumlah baris dan kolom yang sama.  \n",
    "\n",
    "contoh pengurangan matriks :\n",
    "\n",
    "B =\n",
    "\\begin{bmatrix}\n",
    "    3&1&6\\\\\n",
    "    5&5&3\\\\\n",
    "    5&8&9\n",
    "\\end{bmatrix}\n",
    "D =\n",
    "\\begin{bmatrix}\n",
    "    3&3&6\\\\\n",
    "    5&7&3\\\\\n",
    "    5&8&8\n",
    "\\end{bmatrix}\n",
    "B-D =\n",
    "\\begin{bmatrix}\n",
    "    3-3&1-3&6-6\\\\\n",
    "    5-5&5-7&3-3\\\\\n",
    "    5-5&8-8&9-8\n",
    "\\end{bmatrix}\n",
    "hasil =\n",
    "\\begin{bmatrix}\n",
    "    0&-2&0\\\\\n",
    "    0&-2&0\\\\\n",
    "    0&0&1\n",
    "\\end{bmatrix}"
   ]
  },
  {
   "cell_type": "code",
   "execution_count": 4,
   "metadata": {},
   "outputs": [
    {
     "name": "stdout",
     "output_type": "stream",
     "text": [
      "B-D=\n",
      " [[ 0 -2  0]\n",
      " [ 0 -2  0]\n",
      " [ 0  0  1]]\n"
     ]
    }
   ],
   "source": [
    "# Pengurangan Matriks\n",
    "import numpy as np\n",
    "A = np.array([[1,3,6],[2,1,5],[4,2,1]])\n",
    "B = np.array([[3,1,6],[5,5,3],[5,8,9]])\n",
    "C = np.array([[4,5],[5,0],[7,8]])\n",
    "D = np.array([[3,3,6],[5,7,3],[5,8,8]])\n",
    "print(\"B-D=\\n\", B-D)"
   ]
  },
  {
   "cell_type": "markdown",
   "metadata": {},
   "source": [
    "Penjelasan :\n",
    "\n",
    "1. Matriks $B$ dan $D$ dapat dikurangi karena memiliki ukuran matriks yang sama yaitu $3x3$.\n",
    "2. Sedangkan matriks $D$ dan $C$ tidak dapat dikurangi karena berbeda ukuran matriksnya yaitu $D(3x3), C(3x2)$"
   ]
  },
  {
   "cell_type": "markdown",
   "metadata": {},
   "source": [
    "5. ***Perkalian Matriks***  \n",
    "* Suatu matriks dapat dikalikan, jika jumlah kolom dari matrik pertama sama dengan jumlah baris matrik kedua. untuk mencari Ordo matriks hasil perkalian adalah dengan mengali jumlah baris matriks pertama dengan jumlah kolom matriks kedua. perkalian matrik dilakukan dengan mengalikan baris dan kolom.\n",
    "\n",
    "Misalnya : matriks A = 2x2 dikalikan dengan matriks B = 2x2. \n",
    "\n",
    "$$\n",
    "A=\n",
    "\\begin{bmatrix}\n",
    "1&3\\\\\n",
    "2&1\\\\\n",
    "\\end{bmatrix}\n",
    "B=\n",
    "\\begin{bmatrix}\n",
    "3&1\\\\\n",
    "5&5\\\\\n",
    "\\end{bmatrix}\\\\\n",
    "$$\n",
    "$$\n",
    "A*B =\n",
    "\\begin{bmatrix}\n",
    "1x3+3x5&1x1+3x5\\\\\n",
    "2x3+1x5&2x1+1x5\\\\\n",
    "\\end{bmatrix}\n",
    "=\n",
    "\\begin{bmatrix}\n",
    "18&16\\\\\n",
    "11&7\\\\\n",
    "\\end{bmatrix}\n",
    "$$\n",
    "\n",
    "* Penjelasan :  \n",
    "1. Matriks A memiliki jumlah kolom : 2 , Matriks B memiliki jumlah baris : 2 (jumlah sama)  \n",
    "2. Ordo : baris A x kolom B = 2 X 2\n",
    "              "
   ]
  },
  {
   "cell_type": "code",
   "execution_count": 5,
   "metadata": {},
   "outputs": [
    {
     "name": "stdout",
     "output_type": "stream",
     "text": [
      "c(AB)\n",
      " [[144 192 207]\n",
      " [108 141 180]\n",
      " [ 81  66 117]]\n",
      "(cA)B\n",
      " [[144 192 207]\n",
      " [108 141 180]\n",
      " [ 81  66 117]]\n",
      "A(cB)\n",
      " [[144 192 207]\n",
      " [108 141 180]\n",
      " [ 81  66 117]]\n"
     ]
    }
   ],
   "source": [
    "# Perkalian matriks, c sebagai skalar\n",
    "import numpy as np\n",
    "A = np.array([[1,3,6],[2,1,5],[4,2,1]])\n",
    "B = np.array([[3,1,6],[5,5,3],[5,8,9]])\n",
    "c = 3\n",
    "print('c(AB)\\n',c*(A@B))\n",
    "print('(cA)B\\n',(c*A)@B)\n",
    "print('A(cB)\\n',A@(c*B))"
   ]
  },
  {
   "cell_type": "markdown",
   "metadata": {},
   "source": [
    "4. ***Matriks Transpose***  \n",
    "matriks baru yang diperoleh dengan menukar baris menjadi kolom dari matriks aslinya. Jadi, elemen-elemen pada baris akan ditukar menjadi elemen-elemen pada kolom, ataupun sebaliknya. Matriks A transpose dinotasikan dengan $A^T$  \n",
    "\n",
    "* sifat-sifat matriks transpose:  \n",
    "\n",
    "a. $(A^T)^T = A$  \n",
    "b. $(A+B)^T = A^T+B^T$  \n",
    "c. $(cA)^T = cA^T$  \n",
    "d. $(AB)^T = B^TA^T$\n",
    "\n",
    "contoh matriks transpose :  \n",
    "\n",
    "$$\n",
    "A =\n",
    "\\begin{bmatrix}\n",
    "2&4&6\\\\\n",
    "8&1&7\n",
    "\\end{bmatrix}\n",
    "\n",
    "A^T = \n",
    "\\begin{bmatrix}\n",
    "2&8\\\\\n",
    "4&1\\\\\n",
    "6&7\n",
    "\\end{bmatrix}\n",
    "$$\n"
   ]
  },
  {
   "cell_type": "code",
   "execution_count": 1,
   "metadata": {},
   "outputs": [
    {
     "name": "stdout",
     "output_type": "stream",
     "text": [
      "matrik C sebelum di transpose=\n",
      " [[4 5]\n",
      " [5 0]\n",
      " [7 8]]\n",
      "matrik C setelah di transpose=\n",
      " [[4 5 7]\n",
      " [5 0 8]]\n",
      "ukuran C_transpose adalah (2, 3)\n"
     ]
    }
   ],
   "source": [
    "import numpy as np\n",
    "C = np.array([[4,5],[5,0],[7,8]])\n",
    "C_T = C.transpose()\n",
    "print('matrik C sebelum di transpose=\\n', C)\n",
    "print('matrik C setelah di transpose=\\n',C_T)\n",
    "print('ukuran C_transpose adalah',C_T.shape)"
   ]
  },
  {
   "cell_type": "markdown",
   "metadata": {},
   "source": [
    "## Program untuk mengalikan matriks 2x2 dengan for "
   ]
  },
  {
   "cell_type": "code",
   "execution_count": 2,
   "metadata": {},
   "outputs": [
    {
     "name": "stdout",
     "output_type": "stream",
     "text": [
      "Hasil perkalian matriks :\n",
      "[18, 16]\n",
      "[11, 7]\n"
     ]
    }
   ],
   "source": [
    "def matrix_multiplication(matrix_a, matrix_b):\n",
    "    \"\"\"\n",
    "    Fungsi untuk perkalian matriks\n",
    "\n",
    "    catatan:\n",
    "        matrix_a : Matriks pertama\n",
    "        matrix_b : Matriks kedua\n",
    "\n",
    "    Returns:\n",
    "        Matriks yang dihasilkan setelah perkalian\n",
    "    \"\"\"\n",
    "\n",
    "    # Jumlah Kolom pada Matriks Pertama (a) Harus Sama dengan Jumlah Baris pada Matriks Kedua (b):\n",
    "    if len(matrix_b[0]) != len(matrix_a):\n",
    "        raise ValueError(\"tidak sesuai\")\n",
    "\n",
    "    resultant_matrix = [[0 for _ in range(len(matrix_b[0]))] for _ in range(len(matrix_a))]\n",
    "\n",
    "    # perkalian matriks dengan nested for\n",
    "    for baris_a in range(len(matrix_a)):\n",
    "      for kolom_b in range(len(matrix_b[0])):\n",
    "        result = 0\n",
    "        for elemen in range(len(matrix_a[0])):\n",
    "          result += matrix_a[baris_a][elemen] * matrix_b[elemen][kolom_b]\n",
    "        resultant_matrix[baris_a][kolom_b] = result\n",
    "    return resultant_matrix\n",
    "\n",
    "# contoh matriks\n",
    "matrix_a = [[1,3], [2,1]]\n",
    "matrix_b = [[3,1], [5,5]]\n",
    "\n",
    "resultant_matrix = matrix_multiplication(matrix_a, matrix_b)\n",
    "print(\"Hasil perkalian matriks :\")\n",
    "for row in resultant_matrix:\n",
    "    print(row)\n"
   ]
  }
 ],
 "metadata": {
  "kernelspec": {
   "display_name": "Python 3 (ipykernel)",
   "language": "python",
   "name": "python3"
  }
 },
 "nbformat": 4,
 "nbformat_minor": 2
}
