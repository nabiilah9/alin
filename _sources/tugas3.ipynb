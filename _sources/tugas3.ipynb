{
 "cells": [
  {
   "cell_type": "markdown",
   "metadata": {},
   "source": [
    "# Matriks invers  \n",
    "Matrik invers merupakan kebalikan dari suatu matriks, ketika matriks tersebut dikalikan dengan matriks inversnya akan menghasilkan matriks identitas. Matriks invers disimbolkan dengan $A^{-1}$. Matriks invers hanya berlaku pada matriks persegi yang memiliki jumlah baris dan kolom yang sama dan determinanya tidak nol.  \n",
    "misal kita memiliki matriks A dan matriks inversnya $A^{-1}$, maka berlaku persamaan:\n",
    "$A\\times A^{-1}=A^{-1}\\times A=I$ \n",
    "(merupakan matriks identitas.)  \n",
    "\n",
    "## Sifat-sifat Matriks  \n",
    "JIka A merupakan matrik invers, k bilangan bulat positif, dan c adalah skalar $\\neq 0$ maka\n",
    "1. $A^{-1}$ diinverskan menjadi $(A^{-1})^{-1}=A$\n",
    "2. $A^{k}$ diinverskan menjadi $(A^{k})^{-1}=A^{k} A^{k} A^{k}=(A^{-1})^{k}=A^{-k}$\n",
    "3. $cA$ diinverskan dan $(cA)^{-1}=\\frac{1}{c}  A^{-1}, c\\neq 0$\n",
    "4. $A^{T}$ diinverskan dan $(A^{T})^{-1}=(A^{-1})^{T}$"
   ]
  },
  {
   "cell_type": "markdown",
   "metadata": {},
   "source": [
    "## Mencari matrik invers dengan eliminasi gauss jordan  \n",
    "\n",
    "Metode Gauss-Jordan adalah sebuah teknik aljabar linear untuk menyelesaikan sistem persamaan linear dan mencari invers dari matriks persegi.  Inti dari metode ini adalah memanipulasi matriks menggunakan operasi baris elementer (OBE) secara sistematis. \n",
    "\n",
    "### Contoh penyelesaian mencari matriks invers dengan gauss jordan   \n",
    "\n",
    "1. bentuk matriks identitas I dengan ukuran yang sama dengan matriks $A=\\begin{bmatrix}\n",
    "2 &2\\\\\n",
    "3 & 1\n",
    "\\end{bmatrix}$\n",
    "2. menggabungkan Matriks A dengan matriks identitas.  \n",
    "$$\n",
    "\\begin{equation*}\n",
    "A=\n",
    "\\begin{bmatrix}\n",
    "2&2& | &1&0 \\\\\n",
    "3&1& | &0&1\n",
    "\\end{bmatrix}\n",
    "\\end{equation*}\n",
    "$$\n",
    "3. lakukan operasi per baris pada matriks tersebut menjadi identitas dengan Eliminasi Gauss Jordan .  \n",
    "a. kali baris 1 dengan 1/2 (R1=1/2R1)\n",
    "$$\n",
    "\\begin{equation*}\n",
    "A=\n",
    "\\begin{bmatrix}\n",
    "2&2& | &1&0 \\\\\n",
    "3&1& | &0&1\n",
    "\\end{bmatrix}\n",
    "\\end{equation*}\n",
    "$$\n",
    "b. Kurangi baris 2 dengan (R2 = R2-3R1)\n",
    "$$\n",
    "\\begin{equation*}\n",
    "A=\n",
    "\\begin{bmatrix}\n",
    "1&1& | &1/2&0 \\\\\n",
    "3&1& | &0&1\n",
    "\\end{bmatrix}\n",
    "\\end{equation*}\n",
    "$$\n",
    "c. kali -2 dengan -1/2 agar menjadi 1\n",
    "$$\n",
    "\\begin{equation*}\n",
    "A=\n",
    "\\begin{bmatrix}\n",
    "1&1& | &1/2&0 \\\\\n",
    "0&1& | &3/4&-1/2\n",
    "\\end{bmatrix}\n",
    "\\end{equation*}\n",
    "$$\n",
    "d. kurangi 1 dengan 1 agar menjadi 0\n",
    "$$\n",
    "\\begin{equation*}\n",
    "A=\n",
    "\\begin{bmatrix}\n",
    "1&0& | &-1/4&1/2\\\\\n",
    "0&1& | &3/4&-1/2\n",
    "\\end{bmatrix}\n",
    "\\end{equation*}\n",
    "$$\n",
    "\n",
    "jadi invers dari matriks A adalah\n",
    "$$\n",
    "\\begin{equation*}\n",
    "A^{-1}=\n",
    "\\begin{bmatrix}\n",
    "-1/4&1/2&\\\\\n",
    "3/4&-1/2\n",
    "\\end{bmatrix}\n",
    "\\end{equation*}\n",
    "$$"
   ]
  },
  {
   "cell_type": "markdown",
   "metadata": {},
   "source": [
    "## Penyelesaian 4 persamaan dengan matriks invers  \n",
    "\n",
    "$$\n",
    "\\\\0x_1+0x_2+0x_3+x_4=-3\\\\\n",
    "4x_1+2x_2+0x_3-4x_4=-2\\\\\n",
    "-2x_1+0x_2+x_3+2x_4=-7\\\\\n",
    "x_1+0x_2+0x_3+x_4=1\\\\\n",
    "$$\n",
    "\n",
    "$$\n",
    "\\begin{equation*}\n",
    "A=\n",
    "\\begin{bmatrix}\n",
    "0&0&0&1\\\\\n",
    "4&2&0&-4\\\\\n",
    "-2&0&1&2\\\\\n",
    "1&0&0&1\\\\\n",
    "\\end{bmatrix}\n",
    "\\end{equation*}\n",
    "$$\n",
    "\n",
    "\n"
   ]
  },
  {
   "cell_type": "code",
   "execution_count": 2,
   "metadata": {},
   "outputs": [],
   "source": [
    "def RowSwap(A,k,l):\n",
    "# =============================================================================\n",
    "#     A is a NumPy array.  RowSwap will return duplicate array with rows\n",
    "#     k and l swapped.\n",
    "# =============================================================================\n",
    "    m = A.shape[0]  # m is number of rows in A\n",
    "    n = A.shape[1]  # n is number of columns in A\n",
    "\n",
    "    B = np.copy(A).astype('float64')\n",
    "\n",
    "    for j in range(n):\n",
    "        temp = B[k][j]\n",
    "        B[k][j] = B[l][j]\n",
    "        B[l][j] = temp\n",
    "\n",
    "    return B\n",
    "\n",
    "def RowScale(A,k,scale):\n",
    "# =============================================================================\n",
    "#     A is a NumPy array.  RowScale will return duplicate array with the\n",
    "#     entries of row k multiplied by scale.\n",
    "# =============================================================================\n",
    "    m = A.shape[0]  # m is number of rows in A\n",
    "    n = A.shape[1]  # n is number of columns in A\n",
    "\n",
    "    B = np.copy(A).astype('float64')\n",
    "\n",
    "    for j in range(n):\n",
    "        B[k][j] *= scale\n",
    "\n",
    "    return B\n",
    "\n",
    "def RowAdd(A,k,l,scale):\n",
    "# =============================================================================\n",
    "#     A is a numpy array.  RowAdd will return duplicate array with row\n",
    "#     l modifed.  The new values will be the old values of row l added to\n",
    "#     the values of row k, multiplied by scale.\n",
    "# =============================================================================\n",
    "    m = A.shape[0]  # m is number of rows in A\n",
    "    n = A.shape[1]  # n is number of columns in A\n",
    "\n",
    "    B = np.copy(A).astype('float64')\n",
    "\n",
    "    for j in range(n):\n",
    "        B[l][j] += B[k][j]*scale\n",
    "\n",
    "    return B"
   ]
  },
  {
   "cell_type": "code",
   "execution_count": 3,
   "metadata": {},
   "outputs": [
    {
     "name": "stdout",
     "output_type": "stream",
     "text": [
      "[[ 0  0  0  1  1  0  0  0]\n",
      " [ 4  2  0 -4  0  1  0  0]\n",
      " [-2  0  1  2  0  0  1  0]\n",
      " [ 1  0  0  1  0  0  0  1]]\n"
     ]
    }
   ],
   "source": [
    "import numpy as np\n",
    "A = np.array([[0,0,0,1,1,0,0,0], [4,2,0,-4,0,1,0,0], [-2,0,1,2,0,0,1,0], [1,0,0,1,0,0,0,1]])\n",
    "print(A)"
   ]
  },
  {
   "cell_type": "code",
   "execution_count": 4,
   "metadata": {},
   "outputs": [
    {
     "name": "stdout",
     "output_type": "stream",
     "text": [
      "[[ 1.  0.  0.  1.  0.  0.  0.  1.]\n",
      " [ 4.  2.  0. -4.  0.  1.  0.  0.]\n",
      " [-2.  0.  1.  2.  0.  0.  1.  0.]\n",
      " [ 0.  0.  0.  1.  1.  0.  0.  0.]]\n"
     ]
    }
   ],
   "source": [
    "# pindahkan baris 0 ke baris 3\n",
    "B = RowSwap(A, 0, 3)\n",
    "print(B)"
   ]
  },
  {
   "cell_type": "code",
   "execution_count": 5,
   "metadata": {},
   "outputs": [
    {
     "name": "stdout",
     "output_type": "stream",
     "text": [
      "[[ 1.  0.  0.  1.  0.  0.  0.  1.]\n",
      " [ 0.  2.  0. -8.  0.  1.  0. -4.]\n",
      " [-2.  0.  1.  2.  0.  0.  1.  0.]\n",
      " [ 0.  0.  0.  1.  1.  0.  0.  0.]]\n"
     ]
    }
   ],
   "source": [
    "# tambahkan -4 kali baris 0 ke baris 1 \n",
    "C = RowAdd(B, 0, 1, -4)\n",
    "print(C)"
   ]
  },
  {
   "cell_type": "code",
   "execution_count": 6,
   "metadata": {},
   "outputs": [
    {
     "name": "stdout",
     "output_type": "stream",
     "text": [
      "[[ 1.  0.  0.  1.  0.  0.  0.  1.]\n",
      " [ 0.  2.  0. -8.  0.  1.  0. -4.]\n",
      " [ 0.  0.  1.  4.  0.  0.  1.  2.]\n",
      " [ 0.  0.  0.  1.  1.  0.  0.  0.]]\n"
     ]
    }
   ],
   "source": [
    "# tambahkan 2 kali baris 0 ke baris 2\n",
    "D = RowAdd(C, 0, 2, 2)\n",
    "print(D)"
   ]
  },
  {
   "cell_type": "code",
   "execution_count": 7,
   "metadata": {},
   "outputs": [
    {
     "name": "stdout",
     "output_type": "stream",
     "text": [
      "[[ 1.   0.   0.   1.   0.   0.   0.   1. ]\n",
      " [ 0.   1.   0.  -4.   0.   0.5  0.  -2. ]\n",
      " [ 0.   0.   1.   4.   0.   0.   1.   2. ]\n",
      " [ 0.   0.   0.   1.   1.   0.   0.   0. ]]\n"
     ]
    }
   ],
   "source": [
    "# kalikan baris 1 dengan 1/2\n",
    "E = RowScale(D, 1, 1/2)\n",
    "print(E)"
   ]
  },
  {
   "cell_type": "code",
   "execution_count": 8,
   "metadata": {},
   "outputs": [
    {
     "name": "stdout",
     "output_type": "stream",
     "text": [
      "[[ 1.   0.   0.   0.  -1.   0.   0.   1. ]\n",
      " [ 0.   1.   0.  -4.   0.   0.5  0.  -2. ]\n",
      " [ 0.   0.   1.   4.   0.   0.   1.   2. ]\n",
      " [ 0.   0.   0.   1.   1.   0.   0.   0. ]]\n"
     ]
    }
   ],
   "source": [
    "# tambahkan -1 kali baris 3 ke baris 0\n",
    "F = RowAdd(E, 3, 0, -1)\n",
    "print(F)"
   ]
  },
  {
   "cell_type": "code",
   "execution_count": 9,
   "metadata": {},
   "outputs": [
    {
     "name": "stdout",
     "output_type": "stream",
     "text": [
      "[[ 1.   0.   0.   0.  -1.   0.   0.   1. ]\n",
      " [ 0.   1.   0.   0.   4.   0.5  0.  -2. ]\n",
      " [ 0.   0.   1.   4.   0.   0.   1.   2. ]\n",
      " [ 0.   0.   0.   1.   1.   0.   0.   0. ]]\n"
     ]
    }
   ],
   "source": [
    "# Tambahkan 4 kali baris 3 ke baris 1\n",
    "G = RowAdd(F, 3, 1, 4)\n",
    "print(G)"
   ]
  },
  {
   "cell_type": "code",
   "execution_count": 10,
   "metadata": {},
   "outputs": [
    {
     "name": "stdout",
     "output_type": "stream",
     "text": [
      "[[ 1.   0.   0.   0.  -1.   0.   0.   1. ]\n",
      " [ 0.   1.   0.   0.   4.   0.5  0.  -2. ]\n",
      " [ 0.   0.   1.   0.  -4.   0.   1.   2. ]\n",
      " [ 0.   0.   0.   1.   1.   0.   0.   0. ]]\n"
     ]
    }
   ],
   "source": [
    "# tambahkan -4 kali baris 3 ke baris 2\n",
    "H = RowAdd(G, 3, 2, -4)\n",
    "print(H)"
   ]
  },
  {
   "cell_type": "code",
   "execution_count": 11,
   "metadata": {},
   "outputs": [
    {
     "name": "stdout",
     "output_type": "stream",
     "text": [
      "[[  4.]\n",
      " [-15.]\n",
      " [  7.]\n",
      " [ -3.]]\n"
     ]
    }
   ],
   "source": [
    "# mencari x = A^-1 . b\n",
    "H = np.array([[-1,0,0,1], [4,0.5,0,-2], [-4,0,1,2], [1,0,0,0]])\n",
    "I = np.array([[-3], [-2], [-7], [1]])\n",
    "print(H@I)"
   ]
  },
  {
   "cell_type": "markdown",
   "metadata": {},
   "source": [
    "$$\n",
    "\\begin{equation*}\n",
    "Matriks Inverse=\n",
    "\\begin{bmatrix}\n",
    "-1&0&0&1\\\\\n",
    "4&0.5&0&-2\\\\\n",
    "-4&0&1&2\\\\\n",
    "1&0&0&0\\\\\n",
    "\\end{bmatrix}\n",
    "\\end{equation*}\n",
    "$$\n",
    "\n",
    "$$\n",
    "\\begin{equation*}\n",
    "x=\n",
    "\\begin{bmatrix}\n",
    "4\\\\\n",
    "-15\\\\\n",
    "7\\\\\n",
    "-3\\\\\n",
    "\\end{bmatrix}\n",
    "\\end{equation*}\n",
    "$$\n",
    "\n",
    "$$\n",
    "\\begin{equation*}\n",
    "b=\n",
    "\\begin{bmatrix}\n",
    "-3\\\\\n",
    "-2\\\\\n",
    "-7\\\\\n",
    "1\\\\\n",
    "\\end{bmatrix}\n",
    "\\end{equation*}\n",
    "$$"
   ]
  },
  {
   "cell_type": "markdown",
   "metadata": {},
   "source": [
    "### UTS : Buat 4 persamaan Matriks dan cari Matriks Invers  \n",
    "\n",
    "$$\n",
    "\\\\4x_1+0x_2+0x_3+0x_4=8\\\\\n",
    "0x_1+0x_2+2x_3+0x_4=2\\\\\n",
    "0x_1+x_2+2x_3+0x_4=6\\\\\n",
    "x_1+0x_2+0x_3+x_4=10\\\\\n",
    "$$\n",
    "\n",
    "$$\n",
    "\\begin{equation*}\n",
    "A=\n",
    "\\begin{bmatrix}\n",
    "4&0&0&0\\\\\n",
    "0&0&2&0\\\\\n",
    "0&1&2&0\\\\\n",
    "1&0&0&1\\\\\n",
    "\\end{bmatrix}\n",
    "\\end{equation*}\n",
    "$$\n"
   ]
  },
  {
   "cell_type": "code",
   "execution_count": 1,
   "metadata": {},
   "outputs": [],
   "source": [
    "def RowSwap(A,k,l):\n",
    "# =============================================================================\n",
    "#     A is a NumPy array.  RowSwap will return duplicate array with rows\n",
    "#     k and l swapped.\n",
    "# =============================================================================\n",
    "    m = A.shape[0]  # m is number of rows in A\n",
    "    n = A.shape[1]  # n is number of columns in A\n",
    "\n",
    "    B = np.copy(A).astype('float64')\n",
    "\n",
    "    for j in range(n):\n",
    "        temp = B[k][j]\n",
    "        B[k][j] = B[l][j]\n",
    "        B[l][j] = temp\n",
    "\n",
    "    return B\n",
    "\n",
    "def RowScale(A,k,scale):\n",
    "# =============================================================================\n",
    "#     A is a NumPy array.  RowScale will return duplicate array with the\n",
    "#     entries of row k multiplied by scale.\n",
    "# =============================================================================\n",
    "    m = A.shape[0]  # m is number of rows in A\n",
    "    n = A.shape[1]  # n is number of columns in A\n",
    "\n",
    "    B = np.copy(A).astype('float64')\n",
    "\n",
    "    for j in range(n):\n",
    "        B[k][j] *= scale\n",
    "\n",
    "    return B\n",
    "\n",
    "def RowAdd(A,k,l,scale):\n",
    "# =============================================================================\n",
    "#     A is a numpy array.  RowAdd will return duplicate array with row\n",
    "#     l modifed.  The new values will be the old values of row l added to\n",
    "#     the values of row k, multiplied by scale.\n",
    "# =============================================================================\n",
    "    m = A.shape[0]  # m is number of rows in A\n",
    "    n = A.shape[1]  # n is number of columns in A\n",
    "\n",
    "    B = np.copy(A).astype('float64')\n",
    "\n",
    "    for j in range(n):\n",
    "        B[l][j] += B[k][j]*scale\n",
    "\n",
    "    return B"
   ]
  },
  {
   "cell_type": "code",
   "execution_count": 2,
   "metadata": {},
   "outputs": [
    {
     "name": "stdout",
     "output_type": "stream",
     "text": [
      "[[4 0 0 0 1 0 0 0]\n",
      " [0 0 2 0 0 1 0 0]\n",
      " [0 1 2 0 0 0 1 0]\n",
      " [1 0 0 1 0 0 0 1]]\n"
     ]
    }
   ],
   "source": [
    "import numpy as np\n",
    "A = np.array([[4,0,0,0,1,0,0,0], [0,0,2,0,0,1,0,0], [0,1,2,0,0,0,1,0], [1,0,0,1,0,0,0,1]])\n",
    "print(A)"
   ]
  },
  {
   "cell_type": "code",
   "execution_count": 3,
   "metadata": {},
   "outputs": [
    {
     "name": "stdout",
     "output_type": "stream",
     "text": [
      "[[1. 0. 0. 1. 0. 0. 0. 1.]\n",
      " [0. 0. 2. 0. 0. 1. 0. 0.]\n",
      " [0. 1. 2. 0. 0. 0. 1. 0.]\n",
      " [4. 0. 0. 0. 1. 0. 0. 0.]]\n"
     ]
    }
   ],
   "source": [
    "B = RowSwap(A, 0, 3)\n",
    "print(B)"
   ]
  },
  {
   "cell_type": "code",
   "execution_count": 4,
   "metadata": {},
   "outputs": [
    {
     "name": "stdout",
     "output_type": "stream",
     "text": [
      "[[ 1.  0.  0.  1.  0.  0.  0.  1.]\n",
      " [ 0.  0.  2.  0.  0.  1.  0.  0.]\n",
      " [ 0.  1.  2.  0.  0.  0.  1.  0.]\n",
      " [ 0.  0.  0. -4.  1.  0.  0. -4.]]\n"
     ]
    }
   ],
   "source": [
    "C = RowAdd(B, 0, 3, -4)\n",
    "print(C)"
   ]
  },
  {
   "cell_type": "code",
   "execution_count": 5,
   "metadata": {},
   "outputs": [
    {
     "name": "stdout",
     "output_type": "stream",
     "text": [
      "[[ 1.  0.  0.  1.  0.  0.  0.  1.]\n",
      " [ 0.  1.  2.  0.  0.  0.  1.  0.]\n",
      " [ 0.  0.  2.  0.  0.  1.  0.  0.]\n",
      " [ 0.  0.  0. -4.  1.  0.  0. -4.]]\n"
     ]
    }
   ],
   "source": [
    "D = RowSwap(C, 1, 2)\n",
    "print(D)"
   ]
  },
  {
   "cell_type": "code",
   "execution_count": 6,
   "metadata": {},
   "outputs": [
    {
     "name": "stdout",
     "output_type": "stream",
     "text": [
      "[[ 1.   0.   0.   1.   0.   0.   0.   1. ]\n",
      " [ 0.   1.   2.   0.   0.   0.   1.   0. ]\n",
      " [ 0.   0.   1.   0.   0.   0.5  0.   0. ]\n",
      " [ 0.   0.   0.  -4.   1.   0.   0.  -4. ]]\n"
     ]
    }
   ],
   "source": [
    "E = RowAdd(D, 2, 2, -1/2)\n",
    "print(E)"
   ]
  },
  {
   "cell_type": "code",
   "execution_count": 7,
   "metadata": {},
   "outputs": [
    {
     "name": "stdout",
     "output_type": "stream",
     "text": [
      "[[ 1.   0.   0.   1.   0.   0.   0.   1. ]\n",
      " [ 0.   1.   0.   0.   0.  -1.   1.   0. ]\n",
      " [ 0.   0.   1.   0.   0.   0.5  0.   0. ]\n",
      " [ 0.   0.   0.  -4.   1.   0.   0.  -4. ]]\n"
     ]
    }
   ],
   "source": [
    "F = RowAdd(E, 2, 1, -2)\n",
    "print(F)"
   ]
  },
  {
   "cell_type": "code",
   "execution_count": 8,
   "metadata": {},
   "outputs": [
    {
     "name": "stdout",
     "output_type": "stream",
     "text": [
      "[[ 1.    0.    0.    1.    0.    0.    0.    1.  ]\n",
      " [ 0.    1.    0.    0.    0.   -1.    1.    0.  ]\n",
      " [ 0.    0.    1.    0.    0.    0.5   0.    0.  ]\n",
      " [ 0.    0.    0.    1.   -0.25  0.    0.    1.  ]]\n"
     ]
    }
   ],
   "source": [
    "G = RowAdd(F, 3, 3, -5/4)\n",
    "print(G)"
   ]
  },
  {
   "cell_type": "code",
   "execution_count": 9,
   "metadata": {},
   "outputs": [
    {
     "name": "stdout",
     "output_type": "stream",
     "text": [
      "[[ 1.    0.    0.    0.    0.25  0.    0.    0.  ]\n",
      " [ 0.    1.    0.    0.    0.   -1.    1.    0.  ]\n",
      " [ 0.    0.    1.    0.    0.    0.5   0.    0.  ]\n",
      " [ 0.    0.    0.    1.   -0.25  0.    0.    1.  ]]\n"
     ]
    }
   ],
   "source": [
    "H = RowAdd(G, 3, 0, -1/1)\n",
    "print(H)"
   ]
  },
  {
   "cell_type": "code",
   "execution_count": 10,
   "metadata": {},
   "outputs": [
    {
     "name": "stdout",
     "output_type": "stream",
     "text": [
      "[[1. 0. 0. 0.]\n",
      " [0. 1. 0. 0.]\n",
      " [0. 0. 1. 0.]\n",
      " [0. 0. 0. 1.]]\n"
     ]
    }
   ],
   "source": [
    "# A^-1.|A| = I\n",
    "# jika Invers Matriks A dikali dengan Matriks A maka akan menghasilkan matriks identitas.\n",
    "I = np.array([[0.25,0,0,0], [0,-1,1,0], [0,0.5,0,0], [-0.25,0,0,1]])\n",
    "J = np.array([[4,0,0,0], [0,0,2,0], [0,1,2,0], [1,0,0,1]])\n",
    "print(I@J)"
   ]
  },
  {
   "cell_type": "code",
   "execution_count": 11,
   "metadata": {},
   "outputs": [
    {
     "name": "stdout",
     "output_type": "stream",
     "text": [
      "[[2.]\n",
      " [4.]\n",
      " [1.]\n",
      " [8.]]\n"
     ]
    }
   ],
   "source": [
    "# x = A^-1.b\n",
    "# untuk mencari x kalikan matriks invers dengan b (konstanta)\n",
    "K = np.array([[0.25,0,0,0], [0,-1,1,0], [0,0.5,0,0], [-0.25,0,0,1]])\n",
    "L = np.array([[8], [2], [6], [10]])\n",
    "print(K@L)"
   ]
  },
  {
   "cell_type": "markdown",
   "metadata": {},
   "source": [
    "$$\n",
    "\\begin{equation*}\n",
    "Matriks Inverse=\n",
    "\\begin{bmatrix}\n",
    "0.25&0&0&0\\\\\n",
    "0&-1&1&0\\\\\n",
    "0&0.5&0&0\\\\\n",
    "-0.25&0&0&1\\\\\n",
    "\\end{bmatrix}\n",
    "\\end{equation*}\n",
    "$$\n",
    "\n",
    "$$\n",
    "\\begin{equation*}\n",
    "x=\n",
    "\\begin{bmatrix}\n",
    "2\\\\\n",
    "4\\\\\n",
    "1\\\\\n",
    "8\\\\\n",
    "\\end{bmatrix}\n",
    "\\end{equation*}\n",
    "$$\n",
    "\n",
    "$$\n",
    "\\begin{equation*}\n",
    "b=\n",
    "\\begin{bmatrix}\n",
    "8\\\\\n",
    "2\\\\\n",
    "6\\\\\n",
    "10\\\\\n",
    "\\end{bmatrix}\n",
    "\\end{equation*}\n",
    "$$"
   ]
  }
 ],
 "metadata": {
  "kernelspec": {
   "display_name": "Python 3 (ipykernel)",
   "language": "python",
   "name": "python3"
  }
 },
 "nbformat": 4,
 "nbformat_minor": 2
}
